{
 "cells": [
  {
   "cell_type": "markdown",
   "id": "25d7736c-ba17-4aff-b6bb-66eba20fbf4e",
   "metadata": {},
   "source": [
    "# Lab | Pandas"
   ]
  },
  {
   "cell_type": "markdown",
   "id": "d1973e9e-8be6-4039-b70e-d73ee0d94c99",
   "metadata": {},
   "source": [
    "In this lab, we will be working with the customer data from an insurance company, which can be found in the CSV file located at the following link: https://raw.githubusercontent.com/data-bootcamp-v4/data/main/file1.csv\n",
    "\n",
    "The data includes information such as customer ID, state, gender, education, income, and other variables that can be used to perform various analyses.\n",
    "\n",
    "Throughout the lab, we will be using the pandas library in Python to manipulate and analyze the data. Pandas is a powerful library that provides various data manipulation and analysis tools, including the ability to load and manipulate data from a variety of sources, including CSV files."
   ]
  },
  {
   "cell_type": "markdown",
   "id": "8045146f-f4f7-44d9-8cd9-130d6400c73a",
   "metadata": {},
   "source": [
    "### Data Description\n",
    "\n",
    "- Customer - Customer ID\n",
    "\n",
    "- ST - State where customers live\n",
    "\n",
    "- Gender - Gender of the customer\n",
    "\n",
    "- Education - Background education of customers \n",
    "\n",
    "- Customer Lifetime Value - Customer lifetime value(CLV) is the total revenue the client will derive from their entire relationship with a customer. In other words, is the predicted or calculated value of a customer over their entire duration as a policyholder with the insurance company. It is an estimation of the net profit that the insurance company expects to generate from a customer throughout their relationship with the company. Customer Lifetime Value takes into account factors such as the duration of the customer's policy, premium payments, claim history, renewal likelihood, and potential additional services or products the customer may purchase. It helps insurers assess the long-term profitability and value associated with retaining a particular customer.\n",
    "\n",
    "- Income - Customers income\n",
    "\n",
    "- Monthly Premium Auto - Amount of money the customer pays on a monthly basis as a premium for their auto insurance coverage. It represents the recurring cost that the insured person must pay to maintain their insurance policy and receive coverage for potential damages, accidents, or other covered events related to their vehicle.\n",
    "\n",
    "- Number of Open Complaints - Number of complaints the customer opened\n",
    "\n",
    "- Policy Type - There are three type of policies in car insurance (Corporate Auto, Personal Auto, and Special Auto)\n",
    "\n",
    "- Vehicle Class - Type of vehicle classes that customers have Two-Door Car, Four-Door Car SUV, Luxury SUV, Sports Car, and Luxury Car\n",
    "\n",
    "- Total Claim Amount - the sum of all claims made by the customer. It represents the total monetary value of all approved claims for incidents such as accidents, theft, vandalism, or other covered events.\n"
   ]
  },
  {
   "cell_type": "markdown",
   "id": "3a72419b-20fc-4905-817a-8c83abc59de6",
   "metadata": {},
   "source": [
    "External Resources: https://towardsdatascience.com/filtering-data-frames-in-pandas-b570b1f834b9"
   ]
  },
  {
   "cell_type": "markdown",
   "id": "8f8ece17-e919-4e23-96c0-c7c59778436a",
   "metadata": {},
   "source": [
    "## Challenge 1: Understanding the data\n",
    "\n",
    "In this challenge, you will use pandas to explore a given dataset. Your task is to gain a deep understanding of the data by analyzing its characteristics, dimensions, and statistical properties."
   ]
  },
  {
   "cell_type": "markdown",
   "id": "91437bd5-59a6-49c0-8150-ef0e6e6eb253",
   "metadata": {},
   "source": [
    "- Identify the dimensions of the dataset by determining the number of rows and columns it contains.\n",
    "- Determine the data types of each column and evaluate whether they are appropriate for the nature of the variable. You should also provide suggestions for fixing any incorrect data types.\n",
    "- Identify the number of unique values for each column and determine which columns appear to be categorical. You should also describe the unique values of each categorical column and the range of values for numerical columns, and give your insights.\n",
    "- Compute summary statistics such as mean, median, mode, standard deviation, and quartiles to understand the central tendency and distribution of the data for numerical columns. You should also provide your conclusions based on these summary statistics.\n",
    "- Compute summary statistics for categorical columns and providing your conclusions based on these statistics."
   ]
  },
  {
   "cell_type": "code",
   "execution_count": null,
   "id": "5f986111",
   "metadata": {},
   "outputs": [],
   "source": [
    "import pandas as pd"
   ]
  },
  {
   "cell_type": "code",
   "execution_count": null,
   "id": "dd4e8cd8-a6f6-486c-a5c4-1745b0c035f4",
   "metadata": {},
   "outputs": [],
   "source": [
    "url = 'https://raw.githubusercontent.com/data-bootcamp-v4/data/main/file1.csv'\n",
    "insurance_df = pd.read_csv(url)# Your code here"
   ]
  },
  {
   "cell_type": "code",
   "execution_count": null,
   "id": "ea646c8b",
   "metadata": {},
   "outputs": [],
   "source": [
    "insurance_df"
   ]
  },
  {
   "cell_type": "code",
   "execution_count": null,
   "id": "7e0459e4",
   "metadata": {},
   "outputs": [],
   "source": [
    "filas_columnas = insurance_df.shape\n",
    "print(f'Número de filas: {filas_columnas[0]}')\n",
    "print(f'Número de columnas: {filas_columnas[1]}')"
   ]
  },
  {
   "cell_type": "code",
   "execution_count": null,
   "id": "926c49fb",
   "metadata": {},
   "outputs": [],
   "source": [
    "tipo_columnas = insurance_df.dtypes\n",
    "tipo_columnas"
   ]
  },
  {
   "cell_type": "markdown",
   "id": "b79bc810",
   "metadata": {},
   "source": [
    "- Customer Lifetime Value: debería ser tipo float, podemos hacer cálculos con estos números.\n",
    "- Number of Open Complaints: igual que el anterior."
   ]
  },
  {
   "cell_type": "code",
   "execution_count": null,
   "id": "357baf2c",
   "metadata": {},
   "outputs": [],
   "source": [
    "valores_unicos = insurance_df.nunique()\n",
    "valores_unicos"
   ]
  },
  {
   "cell_type": "code",
   "execution_count": null,
   "id": "4935fa32",
   "metadata": {},
   "outputs": [],
   "source": [
    "columnas_categoricas = insurance_df.select_dtypes(include=['object'])\n",
    "# columnas_categoricas = insurance_df.select_dtypes(include=['object']).columns\n",
    "# De esta forma sacamos un array de pandas con los nombres de las columnas.\n",
    "columnas_categoricas"
   ]
  },
  {
   "cell_type": "code",
   "execution_count": null,
   "id": "b1229795",
   "metadata": {},
   "outputs": [],
   "source": [
    "columnas_categoricas_unicas = columnas_categoricas.nunique()\n",
    "columnas_categoricas_unicas"
   ]
  },
  {
   "cell_type": "code",
   "execution_count": null,
   "id": "8a392c5d",
   "metadata": {},
   "outputs": [],
   "source": [
    "columnas_categoricas.GENDER.value_counts()"
   ]
  },
  {
   "cell_type": "markdown",
   "id": "af6ec102",
   "metadata": {},
   "source": [
    "- Describir los valores únicos de cada columna categórica "
   ]
  },
  {
   "cell_type": "code",
   "execution_count": null,
   "id": "05b22bbd",
   "metadata": {},
   "outputs": [],
   "source": [
    "# Imprimir los valores únicos de cada columna categórica\n",
    "for columna in columnas_categoricas.columns:\n",
    "    print(f\"Columna: {columna}\")\n",
    "    print(insurance_df[columna].unique())\n",
    "    print(\"\\n\")"
   ]
  },
  {
   "cell_type": "markdown",
   "id": "e8a71efb",
   "metadata": {},
   "source": [
    "- Para las columnas numéricas, calcular el rango (valor mínimo y máximo) "
   ]
  },
  {
   "cell_type": "code",
   "execution_count": null,
   "id": "3e19365a",
   "metadata": {},
   "outputs": [],
   "source": [
    "# Seleccionar columnas numéricas\n",
    "columnas_numericas = insurance_df.select_dtypes(include=['number'])\n",
    "\n",
    "# Calcular el rango de valores para cada columna numérica\n",
    "rango_valores = columnas_numericas.agg(['min', 'max'])\n",
    "\n",
    "# Mostrar los rangos\n",
    "print(rango_valores)"
   ]
  },
  {
   "cell_type": "markdown",
   "id": "84dc81be",
   "metadata": {},
   "source": [
    "- Calcular Media, Mediana, Moda, Desviación estándar y Cuartiles"
   ]
  },
  {
   "cell_type": "code",
   "execution_count": null,
   "id": "88608c51",
   "metadata": {},
   "outputs": [],
   "source": [
    "# Seleccionar columnas numéricas\n",
    "columnas_numericas = insurance_df.select_dtypes(include=['number'])\n",
    "\n",
    "# Calcular estadísticas resumen\n",
    "estadisticas_resumen = columnas_numericas.describe().T\n",
    "\n",
    "# Añadir moda\n",
    "estadisticas_resumen['mode'] = columnas_numericas.mode().iloc[0]\n",
    "\n",
    "# Mostrar las estadísticas calculadas\n",
    "print(estadisticas_resumen)\n",
    "\n",
    "# Calcular mediana y añadirla al DataFrame\n",
    "estadisticas_resumen['median'] = columnas_numericas.median()\n",
    "\n",
    "# Calcular desviación estándar y añadirla al DataFrame\n",
    "estadisticas_resumen['std_dev'] = columnas_numericas.std()\n",
    "\n",
    "# Calcular cuartiles y añadirlos al DataFrame\n",
    "estadisticas_resumen['Q1'] = columnas_numericas.quantile(0.25)\n",
    "estadisticas_resumen['Q3'] = columnas_numericas.quantile(0.75)\n",
    "\n",
    "# Mostrar todas las estadísticas en una tabla\n",
    "print(estadisticas_resumen)"
   ]
  },
  {
   "cell_type": "code",
   "execution_count": null,
   "id": "55158bcc",
   "metadata": {},
   "outputs": [],
   "source": [
    "# Seleccionar columnas categóricas\n",
    "columnas_categoricas = insurance_df.select_dtypes(include=['object'])\n",
    "\n",
    "# Calcular frecuencia y proporción relativa para cada columna categórica\n",
    "for columna in columnas_categoricas.columns:\n",
    "    print(f\"Estadísticas para la columna: {columna}\")\n",
    "    \n",
    "    # Frecuencia de cada categoría\n",
    "    frecuencia = insurance_df[columna].value_counts()\n",
    "    \n",
    "    # Proporción relativa de cada categoría\n",
    "    proporcion = insurance_df[columna].value_counts(normalize=True)\n",
    "    \n",
    "    # Mostrar resultados\n",
    "    print(f\"Frecuencia:\\n{frecuencia}\\n\")\n",
    "    print(f\"Proporción relativa:\\n{proporcion}\\n\")\n",
    "    print(\"\\n\")"
   ]
  },
  {
   "cell_type": "markdown",
   "id": "4a703890-63db-4944-b7ab-95a4f8185120",
   "metadata": {},
   "source": [
    "## Challenge 2: analyzing the data"
   ]
  },
  {
   "cell_type": "markdown",
   "id": "0776a403-c56a-452f-ac33-5fd4fdb06fc7",
   "metadata": {},
   "source": [
    "### Exercise 1"
   ]
  },
  {
   "cell_type": "markdown",
   "id": "eedbc484-da4d-4f9c-9343-e1d44311a87e",
   "metadata": {},
   "source": [
    "The marketing team wants to know the top 5 less common customer locations. Create a pandas Series object that contains the customer locations and their frequencies, and then retrieve the top 5 less common locations in ascending order."
   ]
  },
  {
   "cell_type": "code",
   "execution_count": null,
   "id": "2dca5073-4520-4f42-9390-4b92733284ed",
   "metadata": {},
   "outputs": [],
   "source": [
    "# Crear la Serie con las frecuencias de las ubicaciones de los clientes en la columna 'ST'\n",
    "frecuencia_ubicaciones = insurance_df['ST'].value_counts()\n",
    "\n",
    "# Mostrar la Serie\n",
    "print(frecuencia_ubicaciones)"
   ]
  },
  {
   "cell_type": "code",
   "execution_count": null,
   "id": "d5e9fb9c",
   "metadata": {},
   "outputs": [],
   "source": [
    "# Obtener las 5 ubicaciones menos comunes en orden ascendente\n",
    "top_5_menos_comunes = frecuencia_ubicaciones.nsmallest(5).sort_values(ascending=True)\n",
    "\n",
    "# Mostrar las 5 ubicaciones menos comunes\n",
    "print(top_5_menos_comunes)"
   ]
  },
  {
   "cell_type": "markdown",
   "id": "0ce80f43-4afa-43c7-a78a-c917444da4e0",
   "metadata": {},
   "source": [
    "### Exercise 2\n",
    "\n",
    "The sales team wants to know the total number of policies sold for each type of policy. Create a pandas Series object that contains the policy types and their total number of policies sold, and then retrieve the policy type with the highest number of policies sold."
   ]
  },
  {
   "cell_type": "markdown",
   "id": "a9f13997-1555-4f98-aca6-970fda1d2c3f",
   "metadata": {},
   "source": [
    "*Hint:*\n",
    "- *Using value_counts() method simplifies this analysis.*\n",
    "- *Futhermore, there is a method that returns the index of the maximum value in a column or row.*\n"
   ]
  },
  {
   "cell_type": "code",
   "execution_count": null,
   "id": "bcfad6c1-9af2-4b0b-9aa9-0dc5c17473c0",
   "metadata": {},
   "outputs": [],
   "source": [
    "# Crear la Serie con los tipos de pólizas y el número total de pólizas vendidas\n",
    "policies_sold = insurance_df['Policy Type'].value_counts()\n",
    "\n",
    "# Mostrar la Serie\n",
    "print(policies_sold)"
   ]
  },
  {
   "cell_type": "code",
   "execution_count": null,
   "id": "27e8c7cd",
   "metadata": {},
   "outputs": [],
   "source": [
    "# Identificar el tipo de póliza con el mayor número de pólizas vendidas\n",
    "top_policy_type = policies_sold.idxmax()\n",
    "\n",
    "# Mostrar el tipo de póliza con el mayor número de ventas\n",
    "print(f\"El tipo de póliza con el mayor número de ventas es: {top_policy_type}\")"
   ]
  },
  {
   "cell_type": "markdown",
   "id": "0b863fd3-bf91-4d5d-86eb-be29ed9f5b70",
   "metadata": {},
   "source": [
    "### Exercise 3\n",
    "\n",
    "The sales team wants to know if customers with Personal Auto have a lower income than those with Corporate Auto. How does the average income compare between the two policy types?"
   ]
  },
  {
   "cell_type": "markdown",
   "id": "b1386d75-2810-4aa1-93e0-9485aa12d552",
   "metadata": {},
   "source": [
    "- Use *loc* to create two dataframes: one containing only Personal Auto policies and one containing only Corporate Auto policies.\n",
    "- Calculate the average income for each policy.\n",
    "- Print the results."
   ]
  },
  {
   "cell_type": "code",
   "execution_count": 39,
   "id": "0c0563cf-6f8b-463d-a321-651a972f82e5",
   "metadata": {},
   "outputs": [],
   "source": [
    "# Crear DataFrame para las pólizas de \"Personal Auto\"\n",
    "personal_auto_df = insurance_df.loc[insurance_df['Policy Type'] == 'Personal Auto']\n",
    "\n",
    "# Crear DataFrame para las pólizas de \"Corporate Auto\"\n",
    "corporate_auto_df = insurance_df.loc[insurance_df['Policy Type'] == 'Corporate Auto']"
   ]
  },
  {
   "cell_type": "code",
   "execution_count": 40,
   "id": "1aaf465c",
   "metadata": {},
   "outputs": [],
   "source": [
    "# Calcular el ingreso promedio para \"Personal Auto\"\n",
    "personal_auto_avg_income = personal_auto_df['Income'].mean()\n",
    "\n",
    "# Calcular el ingreso promedio para \"Corporate Auto\"\n",
    "corporate_auto_avg_income = corporate_auto_df['Income'].mean()"
   ]
  },
  {
   "cell_type": "code",
   "execution_count": null,
   "metadata": {},
   "outputs": [],
   "source": [
    "print(f\"Ingreso promedio para 'Personal Auto': {personal_auto_avg_income:.2f}\")\n",
    "print(f\"Ingreso promedio para 'Corporate Auto': {corporate_auto_avg_income:.2f}\")"
   ]
  },
  {
   "cell_type": "markdown",
   "id": "80b16c27-f4a5-4727-a229-1f88671cf4e2",
   "metadata": {},
   "source": [
    "### Bonus: Exercise 4\n"
   ]
  },
  {
   "cell_type": "markdown",
   "id": "ac584986-299b-475f-ac2e-928c16c3f512",
   "metadata": {},
   "source": [
    "Your goal is to identify customers with a high policy claim amount.\n",
    "\n",
    "Instructions:\n",
    "\n",
    "- Review again the statistics for total claim amount to gain an understanding of the data.\n",
    "- To identify potential areas for improving customer retention and profitability, we want to focus on customers with a high policy claim amount. Consider customers with a high policy claim amount to be those in the top 25% of the total claim amount. Create a pandas DataFrame object that contains information about customers with a policy claim amount greater than the 75th percentile.\n",
    "- Use DataFrame methods to calculate summary statistics about the high policy claim amount data. "
   ]
  },
  {
   "cell_type": "markdown",
   "id": "4e3af5f1-6023-4b05-9c01-d05392daa650",
   "metadata": {},
   "source": [
    "*Note: When analyzing data, we often want to focus on certain groups of values to gain insights. Percentiles are a useful tool to help us define these groups. A percentile is a measure that tells us what percentage of values in a dataset are below a certain value. For example, the 75th percentile represents the value below which 75% of the data falls. Similarly, the 25th percentile represents the value below which 25% of the data falls. When we talk about the top 25%, we are referring to the values that fall above the 75th percentile, which represent the top quarter of the data. On the other hand, when we talk about the bottom 25%, we are referring to the values that fall below the 25th percentile, which represent the bottom quarter of the data. By focusing on these groups, we can identify patterns and trends that may be useful for making decisions and taking action.*\n",
    "\n",
    "*Hint: look for a method that gives you the percentile or quantile 0.75 and 0.25 for a Pandas Series.*"
   ]
  },
  {
   "cell_type": "markdown",
   "id": "2d234634-50bd-41e0-88f7-d5ba684455d1",
   "metadata": {},
   "source": [
    "*Hint 2: check `Boolean selection according to the values of a single column` in https://towardsdatascience.com/filtering-data-frames-in-pandas-b570b1f834b9*"
   ]
  },
  {
   "cell_type": "code",
   "execution_count": null,
   "id": "b731bca6-a760-4860-a27b-a33efa712ce0",
   "metadata": {},
   "outputs": [],
   "source": [
    "# Revisar estadísticas básicas de la columna 'Total Claim Amount'\n",
    "total_claim_stats = insurance_df['Total Claim Amount'].describe()\n",
    "\n",
    "# Mostrar estadísticas\n",
    "print(total_claim_stats)"
   ]
  },
  {
   "cell_type": "code",
   "execution_count": null,
   "id": "2346c460",
   "metadata": {},
   "outputs": [],
   "source": [
    "# Calcular el percentil 75 para 'Total Claim Amount'\n",
    "percentil_75 = insurance_df['Total Claim Amount'].quantile(0.75)\n",
    "\n",
    "# Mostrar el percentil 75\n",
    "print(f\"El percentil 75 del monto total de reclamaciones es: {percentil_75:.2f}\")"
   ]
  },
  {
   "cell_type": "code",
   "execution_count": null,
   "id": "b1271272",
   "metadata": {},
   "outputs": [],
   "source": [
    "# Filtrar clientes con un monto de reclamación mayor al percentil 75\n",
    "high_claim_customers_df = insurance_df[insurance_df['Total Claim Amount'] > percentil_75]\n",
    "\n",
    "# Mostrar el DataFrame resultante\n",
    "print(high_claim_customers_df.head())"
   ]
  },
  {
   "cell_type": "code",
   "execution_count": null,
   "id": "d91b5087",
   "metadata": {},
   "outputs": [],
   "source": [
    "# Calcular estadísticas resumidas para los clientes con altos montos de reclamación\n",
    "high_claim_summary_stats = high_claim_customers_df.describe()\n",
    "\n",
    "# Mostrar las estadísticas\n",
    "print(high_claim_summary_stats)"
   ]
  }
 ],
 "metadata": {
  "kernelspec": {
   "display_name": "Python 3 (ipykernel)",
   "language": "python",
   "name": "python3"
  },
  "language_info": {
   "codemirror_mode": {
    "name": "ipython",
    "version": 3
   },
   "file_extension": ".py",
   "mimetype": "text/x-python",
   "name": "python",
   "nbconvert_exporter": "python",
   "pygments_lexer": "ipython3",
   "version": "3.12.4"
  }
 },
 "nbformat": 4,
 "nbformat_minor": 5
}
